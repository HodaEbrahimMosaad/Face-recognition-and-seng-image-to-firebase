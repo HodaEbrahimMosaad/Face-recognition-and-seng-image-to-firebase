{
 "cells": [
  {
   "cell_type": "code",
   "execution_count": 1,
   "metadata": {},
   "outputs": [],
   "source": [
    "import firebase_admin\n",
    "from firebase_admin import credentials\n",
    "from firebase_admin import storage\n",
    "from firebase_admin import db\n",
    "import datetime \n",
    "\n",
    "# Fetch the service account key JSON file contents\n",
    "cred = credentials.Certificate(\"face-rec.json\")\n",
    "\n",
    "# Initialize the app with a service account, granting admin privileges\n",
    "app = firebase_admin.initialize_app(cred, {\n",
    "    'databaseURL' : 'https://face-rec-7416b.firebaseio.com/faces',\n",
    "    'storageBucket': 'face-rec-7416b.appspot.com' \n",
    "})\n",
    "\n",
    "def save_image(image):\n",
    "    \n",
    "    dt = datetime.today()\n",
    "    seconds = str(dt.timestamp())\n",
    "    date =  seconds.split(\".\")[0]\n",
    "    \n",
    "    bucket=storage.bucket()\n",
    "    blob = bucket.blob(date + \"-\" + image.split('/')[-1])\n",
    "    blob.upload_from_filename(image)\n",
    "\n",
    "    ref = db.reference('faces')\n",
    "    ref.set({\n",
    "        'name': image.split('/')[-1].split('.')[0],\n",
    "        'path': date + \"-\" + image.split('/')[-1]\n",
    "    })\n"
   ]
  },
  {
   "cell_type": "code",
   "execution_count": 2,
   "metadata": {},
   "outputs": [],
   "source": [
    "# from my_firebase import save_image"
   ]
  },
  {
   "cell_type": "code",
   "execution_count": 3,
   "metadata": {},
   "outputs": [],
   "source": [
    "from datetime import datetime\n"
   ]
  },
  {
   "cell_type": "code",
   "execution_count": 4,
   "metadata": {},
   "outputs": [],
   "source": [
    "import face_recognition\n",
    "import cv2\n",
    "import numpy as np\n",
    "import os\n",
    "\n",
    "\n",
    "KNOWN_FACES_DIR =  \"Trusted_People\"\n",
    "known_face_encodings = []\n",
    "known_face_names = []\n",
    "# Get a reference to webcam #0 (the default one)\n",
    "video_capture = cv2.VideoCapture(0)\n",
    "\n",
    "for name in os.listdir(KNOWN_FACES_DIR):\n",
    "\n",
    "    # Next we load every file of faces of known person\n",
    "    for filename in os.listdir(f'{KNOWN_FACES_DIR}/{name}'):\n",
    "\n",
    "        \n",
    "        image = face_recognition.load_image_file(f'{KNOWN_FACES_DIR}/{name}/{filename}')\n",
    "        encoding = face_recognition.face_encodings(image)[0]\n",
    "\n",
    "        # Append encodings and name\n",
    "        known_face_encodings.append(encoding)\n",
    "        known_face_names.append(name)"
   ]
  },
  {
   "cell_type": "code",
   "execution_count": 5,
   "metadata": {
    "scrolled": true
   },
   "outputs": [],
   "source": [
    "# Initialize some variables\n",
    "face_locations = []\n",
    "face_encodings = []\n",
    "face_names = []\n",
    "process_this_frame = True\n",
    "img_counter = 0\n",
    "\n",
    "while True:\n",
    "    # Grab a single frame of video\n",
    "    ret, frame = video_capture.read()\n",
    "\n",
    "    \n",
    "    gray = cv2.cvtColor(frame, cv2.COLOR_BGR2GRAY)\n",
    "    humans = human_csc.detectMultiScale(gray,1.1,4)\n",
    "    numOfHumans = len(humans)\n",
    "    \n",
    "    if numOfHumans > 0:\n",
    "        \n",
    "    #     Resize frame of video to 1/4 size for faster face recognition processing\n",
    "        small_frame = cv2.resize(frame, (0, 0), fx=0.25, fy=0.25)\n",
    "\n",
    "        # Convert the image from BGR color (which OpenCV uses) to RGB color (which face_recognition uses)\n",
    "        rgb_small_frame = small_frame[:, :, ::-1]\n",
    "\n",
    "        # Only process every other frame of video to save time\n",
    "        if process_this_frame:\n",
    "            # Find all the faces and face encodings in the current frame of video\n",
    "            face_locations = face_recognition.face_locations(rgb_small_frame)\n",
    "            face_encodings = face_recognition.face_encodings(rgb_small_frame, face_locations)\n",
    "\n",
    "            face_names = []\n",
    "            for face_encoding in face_encodings:\n",
    "                # See if the face is a match for the known face(s)\n",
    "                matches = face_recognition.compare_faces(known_face_encodings, face_encoding)\n",
    "                name = \"Unknown\"\n",
    "\n",
    "                # Or instead, use the known face with the smallest distance to the new face\n",
    "                face_distances = face_recognition.face_distance(known_face_encodings, face_encoding)\n",
    "                best_match_index = np.argmin(face_distances)\n",
    "                if matches[best_match_index]:\n",
    "                    name = known_face_names[best_match_index]\n",
    "\n",
    "                face_names.append(name)\n",
    "\n",
    "        process_this_frame = not process_this_frame\n",
    "\n",
    "\n",
    "        # Display the results\n",
    "        for (top, right, bottom, left), name in zip(face_locations, face_names):\n",
    "            # Scale back up face locations since the frame we detected in was scaled to 1/4 size\n",
    "            top *= 4\n",
    "            right *= 4\n",
    "            bottom *= 4\n",
    "            left *= 4\n",
    "\n",
    "            # Draw a box around the face\n",
    "            cv2.rectangle(frame, (left, top), (right, bottom), (0, 0, 255), 2)\n",
    "\n",
    "            # Draw a label with a name below the face\n",
    "            cv2.rectangle(frame, (left, bottom - 35), (right, bottom), (0, 0, 255), cv2.FILLED)\n",
    "            font = cv2.FONT_HERSHEY_DUPLEX\n",
    "            cv2.putText(frame, name, (left + 6, bottom - 6), font, 1.0, (255, 255, 255), 1)\n",
    "\n",
    "\n",
    "        if \"Hoda\" in face_names or \"Ibrahim\" in face_names or \"Elon\" in face_names:    \n",
    "            img_name = \"images/{}.png\".format(face_names[0])\n",
    "            cv2.imwrite(img_name, frame)\n",
    "\n",
    "            save_image(img_name)\n",
    "            break           \n",
    "\n",
    "    Display the resulting image\n",
    "    cv2.imshow('Video', frame)\n",
    "\n",
    "    Hit 'q' on the keyboard to quit!\n",
    "    if cv2.waitKey(1) & 0xFF == ord('q'):\n",
    "        break\n",
    "\n",
    "# Release handle to the webcam\n",
    "video_capture.release()\n",
    "cv2.destroyAllWindows()"
   ]
  },
  {
   "cell_type": "code",
   "execution_count": 6,
   "metadata": {},
   "outputs": [
    {
     "name": "stdout",
     "output_type": "stream",
     "text": [
      "['Ibrahim']\n"
     ]
    }
   ],
   "source": [
    "print(face_names)"
   ]
  },
  {
   "cell_type": "code",
   "execution_count": null,
   "metadata": {},
   "outputs": [],
   "source": []
  },
  {
   "cell_type": "code",
   "execution_count": null,
   "metadata": {},
   "outputs": [],
   "source": []
  },
  {
   "cell_type": "code",
   "execution_count": 7,
   "metadata": {},
   "outputs": [],
   "source": []
  }
 ],
 "metadata": {
  "kernelspec": {
   "display_name": "Python 3",
   "language": "python",
   "name": "python3"
  },
  "language_info": {
   "codemirror_mode": {
    "name": "ipython",
    "version": 3
   },
   "file_extension": ".py",
   "mimetype": "text/x-python",
   "name": "python",
   "nbconvert_exporter": "python",
   "pygments_lexer": "ipython3",
   "version": "3.7.7"
  }
 },
 "nbformat": 4,
 "nbformat_minor": 4
}
